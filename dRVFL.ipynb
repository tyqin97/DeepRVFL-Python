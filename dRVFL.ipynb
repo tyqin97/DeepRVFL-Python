{
 "cells": [
  {
   "cell_type": "code",
   "execution_count": 89,
   "metadata": {},
   "outputs": [],
   "source": [
    "import numpy as np\n",
    "import scipy.special as spe\n",
    "from math import sqrt\n",
    "from keras.utils import to_categorical"
   ]
  },
  {
   "cell_type": "markdown",
   "metadata": {},
   "source": [
    "Regression Dataset - Diabetes"
   ]
  },
  {
   "cell_type": "code",
   "execution_count": 2,
   "metadata": {},
   "outputs": [],
   "source": [
    "import sklearn.datasets as sd\n",
    "import sklearn.model_selection as sm\n",
    "import sklearn.preprocessing as sp\n",
    "\n",
    "std = sp.MinMaxScaler(feature_range=(0,1))\n",
    "\n",
    "dataset = sd.load_diabetes()\n",
    "X = std.fit_transform(dataset[\"data\"])\n",
    "T = dataset[\"target\"].reshape(-1,1)\n",
    "\n",
    "X1, X2, T1, T2 = sm.train_test_split(X, T, test_size=0.2, random_state=42)"
   ]
  },
  {
   "cell_type": "markdown",
   "metadata": {},
   "source": [
    "Classification Dataset - MNIST"
   ]
  },
  {
   "cell_type": "code",
   "execution_count": 113,
   "metadata": {},
   "outputs": [
    {
     "data": {
      "text/plain": [
       "(50000, 784)"
      ]
     },
     "execution_count": 113,
     "metadata": {},
     "output_type": "execute_result"
    }
   ],
   "source": [
    "import tensorflow as tf\n",
    "from keras.utils import to_categorical\n",
    "from sklearn.preprocessing import LabelEncoder, MinMaxScaler\n",
    "from sklearn.model_selection import train_test_split\n",
    "(x_train, y_train), (x_test, y_test) = tf.keras.datasets.mnist.load_data()\n",
    "\n",
    "# Convert to 1D\n",
    "x_train = x_train.reshape(-1, 784).astype(\"float32\") / 255.0\n",
    "x_test = x_test.reshape(-1, 784).astype(\"float32\") / 255.0\n",
    "\n",
    "# Normalize X to between -1 and 1\n",
    "scaler = MinMaxScaler(feature_range=(0,1))\n",
    "scaler.fit(x_train)\n",
    "x_train = scaler.transform(x_train)\n",
    "scaler.fit(x_test)\n",
    "x_test = scaler.transform(x_test)\n",
    "\n",
    "# Convert the Target(y) to One Hot Encoded\n",
    "y_train = LabelEncoder().fit_transform(y_train)\n",
    "y_test = LabelEncoder().fit_transform(y_test)\n",
    "y_train = to_categorical(y_train, 10).astype(int)\n",
    "y_test = to_categorical(y_test, 10).astype(int)\n",
    "\n",
    "x_val, x_train, y_val, y_train = train_test_split(x_train, y_train, test_size=0.83333)\n",
    "\n",
    "x_train.shape"
   ]
  },
  {
   "cell_type": "markdown",
   "metadata": {},
   "source": [
    "dRVFL Functions"
   ]
  },
  {
   "cell_type": "code",
   "execution_count": 103,
   "metadata": {},
   "outputs": [],
   "source": [
    "def generateNodes(lmbda, n_feature, n_nodes):\n",
    "    W = lmbda * (2 * np.random.rand(n_feature, n_nodes) - 1)\n",
    "    b = lmbda * (2 * np.random.rand(1, n_nodes) - 1)\n",
    "    return W, b\n",
    "    \n",
    "def activationFunc(X, W, b):\n",
    "    return spe.expit(X @ W + b)\n",
    "\n",
    "def combineH(Hi, I):\n",
    "    return np.concatenate([Hi, I], axis=1)\n",
    "\n",
    "def combineD(H, X):\n",
    "    return np.concatenate([np.ones_like(X[:,0:1]), H, X], axis=1)\n",
    "\n",
    "def calcBeta(D, T, n_nodes, n_sample):\n",
    "    return np.linalg.pinv(D) @ T\n",
    "\n",
    "def predict(Beta, X, D, T):\n",
    "    Y = D @ Beta\n",
    "    resErr = Y - T\n",
    "    return resErr, Y\n",
    "\n",
    "def calcRMSE(resErr, n_sample):\n",
    "    return sqrt(np.sum(np.sum(resErr ** 2, axis=0) / n_sample, axis=0))\n",
    "\n",
    "def oneHot(T):\n",
    "    T = sp.LabelEncoder().fit_transform(T)\n",
    "    return to_categorical(T).astype(int)\n",
    "\n",
    "def calcAcc(Y, T):\n",
    "    \n"
   ]
  },
  {
   "cell_type": "markdown",
   "metadata": {},
   "source": [
    "Training Phase - Regression"
   ]
  },
  {
   "cell_type": "code",
   "execution_count": 91,
   "metadata": {},
   "outputs": [
    {
     "name": "stdout",
     "output_type": "stream",
     "text": [
      "RMSE Score: 9.9119\n"
     ]
    }
   ],
   "source": [
    "# Define parameters\n",
    "n_nodes_per_layer = [200, 100, 80]\n",
    "lmbdas = 20\n",
    "n_sample = X1.shape[0]\n",
    "\n",
    "I = X1.copy()\n",
    "\n",
    "Wi = list()\n",
    "bi = list()\n",
    "Hi = list()\n",
    "\n",
    "for n_nodes in n_nodes_per_layer:\n",
    "    \n",
    "    n_feature = I.shape[1]\n",
    "    W, b = generateNodes(lmbdas, n_feature, n_nodes)\n",
    "\n",
    "    I = activationFunc(I, W, b)\n",
    "    \n",
    "    if len(Hi) == 0:\n",
    "        Hi = I\n",
    "    else:\n",
    "        Hi = combineH(Hi, I)\n",
    "\n",
    "    Wi.append(W)\n",
    "    bi.append(b)\n",
    "    \n",
    "D = combineD(Hi, X1)\n",
    "\n",
    "Beta = calcBeta(D, T1, sum(n_nodes_per_layer), n_sample)\n",
    "\n",
    "resErr, Y = predict(Beta, X1, D, T1)\n",
    "\n",
    "score = calcRMSE(resErr, n_sample)\n",
    "\n",
    "print(f\"RMSE Score: {score:.4f}\")"
   ]
  },
  {
   "cell_type": "markdown",
   "metadata": {},
   "source": [
    "Training Phase - Classification"
   ]
  },
  {
   "cell_type": "code",
   "execution_count": 115,
   "metadata": {},
   "outputs": [
    {
     "name": "stdout",
     "output_type": "stream",
     "text": [
      "RMSE Score: 0.4510\n"
     ]
    }
   ],
   "source": [
    "# Define Parameters\n",
    "n_nodes_per_layer = [1887, 140, 50]\n",
    "lmbdas = 200\n",
    "n_sample = x_train.shape[0]\n",
    "\n",
    "I = x_train.copy()\n",
    "\n",
    "Wi = list()\n",
    "bi = list()\n",
    "Hi = list()\n",
    "\n",
    "for n_nodes in n_nodes_per_layer:\n",
    "    \n",
    "    n_feature = I.shape[1]\n",
    "    W, b = generateNodes(lmbdas, n_feature, n_nodes)\n",
    "\n",
    "    I = activationFunc(I, W, b)\n",
    "    \n",
    "    if len(Hi) == 0:\n",
    "        Hi = I\n",
    "    else:\n",
    "        Hi = combineH(Hi, I)\n",
    "\n",
    "    Wi.append(W)\n",
    "    bi.append(b)\n",
    "    \n",
    "D = combineD(Hi, x_train)\n",
    "\n",
    "Beta = calcBeta(D, y_train, sum(n_nodes_per_layer), n_sample)\n",
    "\n",
    "resErr, Y = predict(Beta, x_train, D, y_train)\n",
    "\n",
    "score = calcRMSE(resErr, n_sample)\n",
    "\n",
    "print(f\"RMSE Score: {score:.4f}\")"
   ]
  }
 ],
 "metadata": {
  "kernelspec": {
   "display_name": "pytorch-mps",
   "language": "python",
   "name": "python3"
  },
  "language_info": {
   "codemirror_mode": {
    "name": "ipython",
    "version": 3
   },
   "file_extension": ".py",
   "mimetype": "text/x-python",
   "name": "python",
   "nbconvert_exporter": "python",
   "pygments_lexer": "ipython3",
   "version": "3.8.17"
  }
 },
 "nbformat": 4,
 "nbformat_minor": 2
}
